{
 "cells": [
  {
   "cell_type": "code",
   "execution_count": 3,
   "metadata": {},
   "outputs": [],
   "source": [
    "import os\n",
    "import json\n",
    "import tensorflow as tf\n",
    "from tensorflow.keras.preprocessing import image\n",
    "import numpy as np\n",
    "from flask import Flask, jsonify\n",
    "import serial\n",
    "import time\n",
    "import requests\n",
    "from PIL import Image\n",
    "from io import BytesIO\n",
    "import smtplib  # Import the smtplib module for sending email\n",
    "from email.mime.text import MIMEText\n",
    "from email.mime.multipart import MIMEMultipart\n",
    "import cv2"
   ]
  },
  {
   "cell_type": "code",
   "execution_count": 29,
   "metadata": {},
   "outputs": [],
   "source": [
    "\n",
    "def capture_image_from_droidcam():\n",
    "    \"\"\"Capture an image from the DroidCam using OpenCV.\"\"\"\n",
    "    droidcam_url = 'http://192.168.51.21:4747/video'  # Replace with your DroidCam URL\n",
    "    cap = cv2.VideoCapture(droidcam_url)\n",
    "\n",
    "    # Check if the camera opened successfully\n",
    "    if not cap.isOpened(): \n",
    "        print(\"Error: Could not open video stream from DroidCam.\")\n",
    "        return \"captured_image.jpg\"  # Use the previous image if capture fails\n",
    "\n",
    "    # Capture a single frame (image) from the stream\n",
    "    ret, frame = cap.read()\n",
    "\n",
    "    if ret:\n",
    "        # Save the captured frame as 'captured_image.jpg'\n",
    "        cv2.imwrite('captured_image.jpg', frame)\n",
    "        print(\"Image captured and saved as 'captured_image.jpg'.\")\n",
    "    else:\n",
    "        print(\"Error: Could not capture image. Using the previous image.\")\n",
    "    \n",
    "    # Release the video capture object\n",
    "    cap.release()\n",
    "    return \"captured_image.jpg\""
   ]
  },
  {
   "cell_type": "code",
   "execution_count": 30,
   "metadata": {},
   "outputs": [
    {
     "name": "stdout",
     "output_type": "stream",
     "text": [
      "Image captured and saved as 'captured_image.jpg'.\n"
     ]
    },
    {
     "data": {
      "text/plain": [
       "'captured_image.jpg'"
      ]
     },
     "execution_count": 30,
     "metadata": {},
     "output_type": "execute_result"
    }
   ],
   "source": [
    "capture_image_from_droidcam()"
   ]
  }
 ],
 "metadata": {
  "kernelspec": {
   "display_name": "Python 3",
   "language": "python",
   "name": "python3"
  },
  "language_info": {
   "codemirror_mode": {
    "name": "ipython",
    "version": 3
   },
   "file_extension": ".py",
   "mimetype": "text/x-python",
   "name": "python",
   "nbconvert_exporter": "python",
   "pygments_lexer": "ipython3",
   "version": "3.12.2"
  }
 },
 "nbformat": 4,
 "nbformat_minor": 2
}
